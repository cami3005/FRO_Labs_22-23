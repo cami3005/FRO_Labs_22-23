{
  "cells": [
    {
      "cell_type": "markdown",
      "id": "f2c8a83e",
      "metadata": {
        "id": "f2c8a83e"
      },
      "source": [
        "# MIP examples: the cell phone factory\n",
        "\n",
        "In this session, we'll try to model and solve a problem of production planning at a mobile phone factory."
      ]
    },
    {
      "cell_type": "markdown",
      "id": "c82e4c70",
      "metadata": {
        "id": "c82e4c70"
      },
      "source": [
        "## Mobile phone factory\n",
        "\n",
        "The XYZ mobile corporation produces two models of cell phone, which we'll call M1 and M2, from a pool of components. Both M1 and M2 have the basic components (display, memory, camera, CPU), while only one model, M1, has two extras: thermal FLIR camera and satellite rx/tx.\n",
        "\n",
        "The only factory of XYZ has a limited supply of each component, and the number of components for each model is described in the following table:\n",
        "\n",
        "Component|M1|M2|Availability\n",
        "-|-|-|-\n",
        "Display|1|2|10\n",
        "Memory|2|2|18\n",
        "Camera|1|3|12\n",
        "CPU|2|3|21\n",
        "Thermal cam.|1|0|9\n",
        "Satellite rx/tx|1|0|10\n",
        "\n",
        "The sales price for M1 is 110, and for M2 it is 130. Formulate the problem of finding how many models to produce of M1 and M2 in order to mazimize the total revenue.\n"
      ]
    },
    {
      "cell_type": "markdown",
      "id": "4020d68b",
      "metadata": {
        "id": "4020d68b"
      },
      "source": [
        "This problem can be modeled in a simple way. First, the main decision consists in two quantities: the number of M1 and the number of M2 to produce. We assign two variables $x_1$ and $x_2$ to these quantities.\n",
        "\n",
        "Next, the optimization model will have $110 x_1 + 130 x_2$ as objective function, which should be maximized. Finally, the constraints are given by each scarse resource (displays, memories, etc.). One constraint can be given for each resource. For instance, given that there are 10 displays in total and M1 uses one while M2 uses two, this implies the constraint\n",
        "\n",
        "$$\n",
        "x_1 + 2x_2 \\le 10\n",
        "$$\n",
        "\n",
        "And similarly for all other resources. The two variables $x_1$ and $x_2$ must obviously be nonnegative and integer. The final model can be written as follows:\n",
        "\n",
        "$$\n",
        "\\begin{array}{llll}\n",
        "\\max & 110 x_1 + 130 x_2\\\\\n",
        "\\textrm{s.t.} &   x_1 + 2 x_2 & \\le 10&\\qquad\\textrm{(display)}\\\\\n",
        "              & 2 x_1 + 2 x_2 & \\le 18&\\qquad\\textrm{(memory)}\\\\\n",
        "              &   x_1 + 3 x_2 & \\le 12&\\qquad\\textrm{(camera)}\\\\\n",
        "              & 2 x_1 + 3 x_2 & \\le 21&\\qquad\\textrm{(CPU)}\\\\\n",
        "              &   x_1         & \\le 9 &\\qquad\\textrm{(thermal camera)}\\\\\n",
        "              &   x_2         & \\le 10&\\qquad\\textrm{(sat. rx/tx)}\\\\\n",
        "              & x_1, x_2 \\in \\mathbb Z_+.\n",
        "\\end{array}\n",
        "$$"
      ]
    },
    {
      "cell_type": "code",
      "execution_count": 1,
      "id": "f2233f16",
      "metadata": {
        "id": "f2233f16",
        "outputId": "3e025114-7381-4cd7-f08a-b7bcdd880c1c",
        "colab": {
          "base_uri": "https://localhost:8080/"
        }
      },
      "outputs": [
        {
          "output_type": "stream",
          "name": "stdout",
          "text": [
            "Looking in indexes: https://pypi.org/simple, https://us-python.pkg.dev/colab-wheels/public/simple/\n",
            "Collecting mip\n",
            "  Downloading mip-1.15.0-py3-none-any.whl (15.3 MB)\n",
            "\u001b[2K     \u001b[90m━━━━━━━━━━━━━━━━━━━━━━━━━━━━━━━━━━━━━━━━\u001b[0m \u001b[32m15.3/15.3 MB\u001b[0m \u001b[31m40.3 MB/s\u001b[0m eta \u001b[36m0:00:00\u001b[0m\n",
            "\u001b[?25hRequirement already satisfied: cffi==1.15.* in /usr/local/lib/python3.9/dist-packages (from mip) (1.15.1)\n",
            "Requirement already satisfied: pycparser in /usr/local/lib/python3.9/dist-packages (from cffi==1.15.*->mip) (2.21)\n",
            "Installing collected packages: mip\n",
            "Successfully installed mip-1.15.0\n"
          ]
        }
      ],
      "source": [
        "# When using Colab, make sure you run this instruction beforehand\n",
        "!pip install mip"
      ]
    },
    {
      "cell_type": "code",
      "execution_count": 3,
      "id": "8b5b0fc8",
      "metadata": {
        "id": "8b5b0fc8",
        "outputId": "4575252a-9332-4808-bc9e-9559142e19d3",
        "colab": {
          "base_uri": "https://localhost:8080/"
        }
      },
      "outputs": [
        {
          "output_type": "stream",
          "name": "stdout",
          "text": [
            "1010.0\n",
            "8.0 1.0\n"
          ]
        }
      ],
      "source": [
        "# Fill in the incomplete instructions\n",
        "\n",
        "import mip\n",
        "\n",
        "m = mip.Model()\n",
        "\n",
        "x1 = m.add_var(var_type=mip.INTEGER)\n",
        "x2 = m.add_var(var_type=mip.INTEGER)\n",
        "\n",
        "# Define x2 similarly (TODO)\n",
        "\n",
        "# Fill in the objective function (TODO)\n",
        "m.objective = mip.maximize(110*x1+130*x2)\n",
        "\n",
        "# Now add the six missing constraints (TODO)\n",
        "m.add_constr(x1+2*x2<=10)\n",
        "m.add_constr(2*x1+2*x2<=18)\n",
        "m.add_constr(x1+3*x2<=12)\n",
        "m.add_constr(2*x1+3*x2<=21)\n",
        "m.add_constr(x1<=9)\n",
        "m.add_constr(x1<=10)\n",
        "\n",
        "m.optimize()\n",
        "print(m.objective_value)\n",
        "print(x1.x, x2.x)"
      ]
    }
  ],
  "metadata": {
    "kernelspec": {
      "display_name": "Python 3 (ipykernel)",
      "language": "python",
      "name": "python3"
    },
    "language_info": {
      "codemirror_mode": {
        "name": "ipython",
        "version": 3
      },
      "file_extension": ".py",
      "mimetype": "text/x-python",
      "name": "python",
      "nbconvert_exporter": "python",
      "pygments_lexer": "ipython3",
      "version": "3.10.9"
    },
    "colab": {
      "provenance": []
    }
  },
  "nbformat": 4,
  "nbformat_minor": 5
}