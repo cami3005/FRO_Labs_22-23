{
  "cells": [
    {
      "cell_type": "markdown",
      "id": "ab919113",
      "metadata": {
        "id": "ab919113"
      },
      "source": [
        "# Cell phone MIP problem in parametric form\n",
        "\n",
        "This notebook shows how to model and solve the cell phone factory production MIP using a more parametric approach, i.e., a general one where data could be read from a file."
      ]
    },
    {
      "cell_type": "markdown",
      "id": "aedd867f",
      "metadata": {
        "id": "aedd867f"
      },
      "source": [
        "## Mobile phone factory\n",
        "\n",
        "The XYZ mobile corporation produces two models of cell phone, which we'll call M1 and M2, from a pool of components. Both M1 and M2 have the basic components (display, memory, camera, CPU), while only one model, M1, has two extras: thermal FLIR camera and satellite rx/tx.\n",
        "\n",
        "The only factory of XYZ has a limited supply of each component, and the number of components for each model is described in the following table\n",
        "\n",
        "Component|M1|M2|Availability\n",
        "---------|--|--|------------\n",
        "Display|1|2|10\n",
        "Memory|2|2|18\n",
        "Camera|1|3|12\n",
        "CPU|2|3|21\n",
        "Thermal cam.|1|0|9\n",
        "Satellite rx/tx|1|0|10\n",
        "\n",
        "The sales price for M1 is 110, and for M2 it is 130. Formulate the problem of finding how many models to produce of M1 and M2 in order to mazimize the total revenue.\n"
      ]
    },
    {
      "cell_type": "markdown",
      "id": "54577bfb",
      "metadata": {
        "id": "54577bfb"
      },
      "source": [
        "This problem can be modeled in a simple way. First, the main decision consists in two quantities: the number of M1 and the number of M2 to produce. We assign two variables $x_1$ and $x_2$ to these quantities.\n",
        "\n",
        "Next, the optimization model will have $110 x_1 + 130 x_2$ as objective function, which should be maximized. Finally, the constraints are given by each scarse resource (displays, memories, etc.). One constraint can be given for each resource. For instance, given that there are 10 displays in total and M1 uses one while M2 uses two, this implies the constraint\n",
        "\n",
        "$$\n",
        "x_1 + 2x_2 \\le 10\n",
        "$$\n",
        "\n",
        "And similarly for all other resources. The two variables $x_1$ and $x_2$ must obviously be nonnegative and integer. The final model can be written as follows:\n",
        "\n",
        "$$\n",
        "\\begin{array}{llll}\n",
        "\\max & 110 x_1 + 130 x_2\\\\\n",
        "\\textrm{s.t.} &   x_1 + 2 x_2 & \\le 10&\\qquad\\textrm{(display)}\\\\\n",
        "              & 2 x_1 + 2 x_2 & \\le 18&\\qquad\\textrm{(memory)}\\\\\n",
        "              &   x_1 + 3 x_2 & \\le 12&\\qquad\\textrm{(camera)}\\\\\n",
        "              & 2 x_1 + 3 x_2 & \\le 21&\\qquad\\textrm{(CPU)}\\\\\n",
        "              &   x_1         & \\le 9 &\\qquad\\textrm{(thermal camera)}\\\\\n",
        "              &   x_2         & \\le 10&\\qquad\\textrm{(sat. rx/tx)}\\\\\n",
        "              & x_1, x_2 \\in \\mathbb Z_+.\n",
        "\\end{array}\n",
        "$$"
      ]
    },
    {
      "cell_type": "markdown",
      "id": "965efb8d",
      "metadata": {
        "id": "965efb8d"
      },
      "source": [
        "In matricial form, one can define\n",
        "\n",
        "$$\n",
        "x = \\left(\\begin{array}{l}x_1\\\\x_2\\end{array}\\right);\\qquad\n",
        "c = \\left(\\begin{array}{r}110\\\\130\\end{array}\\right);\\qquad\n",
        "A = \\left(\\begin{array}{rr}1&2\\\\2&2\\\\1&3\\\\2&3\\\\1&0\\\\1&0\\\\\\end{array}\\right);\\qquad\n",
        "b = \\left(\\begin{array}{r}10\\\\18\\\\12\\\\21\\\\9\\\\10\\\\\\end{array}\\right),\n",
        "$$\n",
        "\n",
        "and the model can be re-written equivalently as\n",
        "\n",
        "$$\n",
        "\\begin{array}{lll}\n",
        "\\max          & c^T x\\\\\n",
        "\\textrm{s.t.} & A x \\le b\\\\\n",
        "              & x \\in \\mathbb Z_+^2\n",
        "\\end{array}\n",
        "$$\n",
        "\n",
        "We are ready to create an optimization problem using the `mip` module. We write a more general version where the data is specified separately, so that it could even be read from a file. Note that the component usage can be created as a 6x2 \"matrix\" simply by creating a list of six elements, each being a list of two. "
      ]
    },
    {
      "cell_type": "code",
      "execution_count": 1,
      "id": "e2783667",
      "metadata": {
        "id": "e2783667",
        "outputId": "b632de0d-a67c-4f77-ada9-916cc4986de0",
        "colab": {
          "base_uri": "https://localhost:8080/"
        }
      },
      "outputs": [
        {
          "output_type": "stream",
          "name": "stdout",
          "text": [
            "Looking in indexes: https://pypi.org/simple, https://us-python.pkg.dev/colab-wheels/public/simple/\n",
            "Collecting mip\n",
            "  Downloading mip-1.15.0-py3-none-any.whl (15.3 MB)\n",
            "\u001b[2K     \u001b[90m━━━━━━━━━━━━━━━━━━━━━━━━━━━━━━━━━━━━━━━━\u001b[0m \u001b[32m15.3/15.3 MB\u001b[0m \u001b[31m38.6 MB/s\u001b[0m eta \u001b[36m0:00:00\u001b[0m\n",
            "\u001b[?25hRequirement already satisfied: cffi==1.15.* in /usr/local/lib/python3.9/dist-packages (from mip) (1.15.1)\n",
            "Requirement already satisfied: pycparser in /usr/local/lib/python3.9/dist-packages (from cffi==1.15.*->mip) (2.21)\n",
            "Installing collected packages: mip\n",
            "Successfully installed mip-1.15.0\n"
          ]
        }
      ],
      "source": [
        "# When using Colab, make sure you run this instruction beforehand\n",
        "!pip install mip"
      ]
    },
    {
      "cell_type": "code",
      "execution_count": 2,
      "id": "d59f6107",
      "metadata": {
        "id": "d59f6107"
      },
      "outputs": [],
      "source": [
        "import mip\n",
        "\n",
        "n_model = 2\n",
        "n_component = 6\n",
        "\n",
        "c = [110, 130]\n",
        "\n",
        "A = [[1,2],\n",
        "     [2,2],\n",
        "     [1,3], #una riga per ogni vincolo e una colonna per ogni variabile (telefoni in questo caso)\n",
        "     [2,3],\n",
        "     [1,0],\n",
        "     [1,0]] # Complete (TODO)\n",
        "\n",
        "b = [10,18,12,21,9,10]"
      ]
    },
    {
      "cell_type": "markdown",
      "id": "12b0156a",
      "metadata": {
        "id": "12b0156a"
      },
      "source": [
        "Now we create an empty model and add the two integer variables $[x_1,x_2]$."
      ]
    },
    {
      "cell_type": "code",
      "execution_count": 7,
      "id": "56a4c1a9",
      "metadata": {
        "id": "56a4c1a9"
      },
      "outputs": [],
      "source": [
        "m = mip.Model()\n",
        "\n",
        "x = [m.add_var(var_type=mip.INTEGER) for i in range(n_model)]# Instantiate x variables (TODO)"
      ]
    },
    {
      "cell_type": "markdown",
      "id": "dbe45631",
      "metadata": {
        "id": "dbe45631"
      },
      "source": [
        "Let's write the objective function: in the general case, it can be written as a sum over the set of models."
      ]
    },
    {
      "cell_type": "code",
      "execution_count": 11,
      "id": "10e6dfaf",
      "metadata": {
        "id": "10e6dfaf"
      },
      "outputs": [],
      "source": [
        "m.objective = mip.maximize(mip.xsum(c[i]*x[i] for i in range(n_model))) # Write the objective function (TODO)"
      ]
    },
    {
      "cell_type": "markdown",
      "id": "6bb56c88",
      "metadata": {
        "id": "6bb56c88"
      },
      "source": [
        "The constraints can be generated in a loop:"
      ]
    },
    {
      "cell_type": "code",
      "execution_count": 14,
      "id": "057865a6",
      "metadata": {
        "id": "057865a6"
      },
      "outputs": [],
      "source": [
        "for j in range(n_component):\n",
        "    m.add_constr(mip.xsum(A[j][i] * x[i]  for i in range(n_model)) <=b[j])  # Complete in the \"...\" (TODO)"
      ]
    },
    {
      "cell_type": "markdown",
      "id": "54959656",
      "metadata": {
        "id": "54959656"
      },
      "source": [
        "The model is complete. Let's solve it and print the optimal solution."
      ]
    },
    {
      "cell_type": "code",
      "execution_count": 15,
      "id": "14dbf2db",
      "metadata": {
        "id": "14dbf2db",
        "outputId": "cf2b6c21-1708-4d7d-c25a-96d55aab024b",
        "colab": {
          "base_uri": "https://localhost:8080/"
        }
      },
      "outputs": [
        {
          "output_type": "stream",
          "name": "stdout",
          "text": [
            "[8.0, 1.0]\n",
            "1010.0\n"
          ]
        }
      ],
      "source": [
        "m.optimize()\n",
        "\n",
        "# Print the value (.x) of each variable\n",
        "print([x[i].x for i in range(n_model)])\n",
        "# Print the objective function value\n",
        "print(m.objective_value)"
      ]
    }
  ],
  "metadata": {
    "kernelspec": {
      "display_name": "Python 3 (ipykernel)",
      "language": "python",
      "name": "python3"
    },
    "language_info": {
      "codemirror_mode": {
        "name": "ipython",
        "version": 3
      },
      "file_extension": ".py",
      "mimetype": "text/x-python",
      "name": "python",
      "nbconvert_exporter": "python",
      "pygments_lexer": "ipython3",
      "version": "3.10.9"
    },
    "colab": {
      "provenance": []
    }
  },
  "nbformat": 4,
  "nbformat_minor": 5
}