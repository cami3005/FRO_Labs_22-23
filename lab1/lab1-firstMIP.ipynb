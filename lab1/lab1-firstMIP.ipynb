{
  "cells": [
    {
      "cell_type": "markdown",
      "id": "6ebf3dcc",
      "metadata": {
        "id": "6ebf3dcc"
      },
      "source": [
        "# Introduction to the _mip_ Python module\n",
        "\n",
        "The module we'll become most familiar with in this course is the `mip` module, which allows for creating, manipulating, and solving optimization models with linear constraints and integer, binary, or continuous variables. Check the [homepage](https://www.python-mip.com) for full access to the documentation and updates.\n",
        "\n",
        "Suppose you want to model the following problem:\n",
        "$$\n",
        "\\begin{array}{ll}\n",
        "  \\max & x_1 + x_2\\\\\n",
        "  \\textrm{s.t.} & 2 x_1 + x_2 \\le 10\\\\\n",
        "  & x_1, x_2 \\ge 0\n",
        "\\end{array}\n",
        "$$\n",
        "\n",
        "For starters, we import the module `mip` in python."
      ]
    },
    {
      "cell_type": "code",
      "execution_count": 1,
      "id": "452df095",
      "metadata": {
        "colab": {
          "base_uri": "https://localhost:8080/"
        },
        "id": "452df095",
        "outputId": "7b8bad96-c18c-409e-cc0e-5e199ac3cc3a"
      },
      "outputs": [
        {
          "output_type": "stream",
          "name": "stdout",
          "text": [
            "Looking in indexes: https://pypi.org/simple, https://us-python.pkg.dev/colab-wheels/public/simple/\n",
            "Collecting mip\n",
            "  Downloading mip-1.15.0-py3-none-any.whl (15.3 MB)\n",
            "\u001b[2K     \u001b[90m━━━━━━━━━━━━━━━━━━━━━━━━━━━━━━━━━━━━━━━━\u001b[0m \u001b[32m15.3/15.3 MB\u001b[0m \u001b[31m46.4 MB/s\u001b[0m eta \u001b[36m0:00:00\u001b[0m\n",
            "\u001b[?25hRequirement already satisfied: cffi==1.15.* in /usr/local/lib/python3.9/dist-packages (from mip) (1.15.1)\n",
            "Requirement already satisfied: pycparser in /usr/local/lib/python3.9/dist-packages (from cffi==1.15.*->mip) (2.21)\n",
            "Installing collected packages: mip\n",
            "Successfully installed mip-1.15.0\n"
          ]
        }
      ],
      "source": [
        "# When using Colab, make sure you run this instruction beforehand\n",
        "!pip install mip"
      ]
    },
    {
      "cell_type": "code",
      "execution_count": 2,
      "id": "53f4c8da",
      "metadata": {
        "id": "53f4c8da"
      },
      "outputs": [],
      "source": [
        "# Import module\n",
        "import mip"
      ]
    },
    {
      "cell_type": "markdown",
      "id": "86a9bd4d",
      "metadata": {
        "id": "86a9bd4d"
      },
      "source": [
        "Next, we create an optimization model `m`. We do so by calling the `mip.Model` *constructor* method. We also create two variables `x1` and `x2` using the `add_var()` method from the optimization model."
      ]
    },
    {
      "cell_type": "code",
      "source": [
        "a=1\n"
      ],
      "metadata": {
        "id": "GtZdVPRCSX71"
      },
      "id": "GtZdVPRCSX71",
      "execution_count": 3,
      "outputs": []
    },
    {
      "cell_type": "code",
      "source": [
        "print (a)"
      ],
      "metadata": {
        "colab": {
          "base_uri": "https://localhost:8080/"
        },
        "id": "wXFvIyrlSdgz",
        "outputId": "471b9b1b-e952-451c-8a5e-00caa3c0b7b6"
      },
      "id": "wXFvIyrlSdgz",
      "execution_count": 4,
      "outputs": [
        {
          "output_type": "stream",
          "name": "stdout",
          "text": [
            "1\n"
          ]
        }
      ]
    },
    {
      "cell_type": "code",
      "source": [
        "a=6\n"
      ],
      "metadata": {
        "id": "wo4AbADeShDo"
      },
      "id": "wo4AbADeShDo",
      "execution_count": 5,
      "outputs": []
    },
    {
      "cell_type": "code",
      "source": [
        "print(a)"
      ],
      "metadata": {
        "colab": {
          "base_uri": "https://localhost:8080/"
        },
        "id": "PgAjYeFJSi9E",
        "outputId": "83652c31-97c9-4b1f-af55-92c8f14cd194"
      },
      "id": "PgAjYeFJSi9E",
      "execution_count": 6,
      "outputs": [
        {
          "output_type": "stream",
          "name": "stdout",
          "text": [
            "6\n"
          ]
        }
      ]
    },
    {
      "cell_type": "code",
      "execution_count": 7,
      "id": "4bbf3d62",
      "metadata": {
        "id": "4bbf3d62"
      },
      "outputs": [],
      "source": [
        "# Create model and add two variables to it\n",
        "m = mip.Model()\n",
        "\n",
        "x1 = m.add_var() # x1 >= 0\n",
        "x2 = m.add_var()"
      ]
    },
    {
      "cell_type": "code",
      "source": [
        "print(m)\n",
        "print(x1)\n",
        "print(x2)"
      ],
      "metadata": {
        "colab": {
          "base_uri": "https://localhost:8080/"
        },
        "id": "8X0tQFLgTkDE",
        "outputId": "1857af06-1ff6-4bca-8f94-79393da23526"
      },
      "id": "8X0tQFLgTkDE",
      "execution_count": 8,
      "outputs": [
        {
          "output_type": "stream",
          "name": "stdout",
          "text": [
            "<mip.model.Model object at 0x7fee41314100>\n",
            "var(0)\n",
            "var(1)\n"
          ]
        }
      ]
    },
    {
      "cell_type": "markdown",
      "id": "f44bec0a",
      "metadata": {
        "id": "f44bec0a"
      },
      "source": [
        "We now add the single constraint and the objective. \n",
        "\n",
        "To add the constraint, we use the method `add_constr` from the optimization model."
      ]
    },
    {
      "cell_type": "code",
      "execution_count": 9,
      "id": "3cbd2ab0",
      "metadata": {
        "id": "3cbd2ab0"
      },
      "outputs": [],
      "source": [
        "# Add constraint, set objective function\n",
        "\n",
        "c = m.add_constr(2*x1 + x2 <= 10) #permette di aggiungere un vincolo al modello"
      ]
    },
    {
      "cell_type": "markdown",
      "id": "69db1273",
      "metadata": {
        "id": "69db1273"
      },
      "source": [
        "To add the objective function, we set the `objective` attribute of `m`. We use the method `mip.maximize`, to indicate that this is a function to be maximized.\n",
        "\n",
        "For now, since both the constraint and the objective are very simple, we fully write them as algebraic expressions of `x1` and `x2`."
      ]
    },
    {
      "cell_type": "code",
      "execution_count": 10,
      "id": "cb211607",
      "metadata": {
        "id": "cb211607"
      },
      "outputs": [],
      "source": [
        "m.objective = mip.maximize(x1 + x2) #maximize/minimize definisce la direzione della funzione obiettivo"
      ]
    },
    {
      "cell_type": "markdown",
      "id": "695a8c81",
      "metadata": {
        "id": "695a8c81"
      },
      "source": [
        "Finally, we call the method `optimize` to solve the problem and print the value of the optimal solution. For a variable `v` of the module `mip`, its value in the optimal solution is retrieved as the attribute `.x`, for example `v.x`."
      ]
    },
    {
      "cell_type": "code",
      "execution_count": 11,
      "id": "9e96094e",
      "metadata": {
        "colab": {
          "base_uri": "https://localhost:8080/"
        },
        "id": "9e96094e",
        "outputId": "8066b8bb-6db0-435b-9a13-74c92e7965ee"
      },
      "outputs": [
        {
          "output_type": "stream",
          "name": "stdout",
          "text": [
            "0.0 10.0\n"
          ]
        }
      ],
      "source": [
        "# optimize and print solution\n",
        "\n",
        "m.optimize() #per risolvere il modello appena scritto\n",
        "\n",
        "print(x1.x, x2.x) #per vedere valore numerico"
      ]
    },
    {
      "cell_type": "code",
      "source": [
        "print(m.objective_value) #per vedere il valore della funzione oibiettico che abbiamo raggiunto"
      ],
      "metadata": {
        "colab": {
          "base_uri": "https://localhost:8080/"
        },
        "id": "qGJ0K7XeU1ml",
        "outputId": "6f1ad47a-e63e-435d-e1c9-3c9db83fb7da"
      },
      "id": "qGJ0K7XeU1ml",
      "execution_count": 12,
      "outputs": [
        {
          "output_type": "stream",
          "name": "stdout",
          "text": [
            "10.0\n"
          ]
        }
      ]
    },
    {
      "cell_type": "markdown",
      "id": "877c07b9",
      "metadata": {
        "id": "877c07b9"
      },
      "source": [
        "Here's the complete program."
      ]
    },
    {
      "cell_type": "code",
      "execution_count": 14,
      "id": "e42101cd",
      "metadata": {
        "colab": {
          "base_uri": "https://localhost:8080/"
        },
        "id": "e42101cd",
        "outputId": "e8ac4938-9242-4470-d0d3-be12cb7be78a"
      },
      "outputs": [
        {
          "output_type": "stream",
          "name": "stdout",
          "text": [
            "0.0 10.0\n"
          ]
        }
      ],
      "source": [
        "import mip\n",
        "\n",
        "m = mip.Model()\n",
        "\n",
        "x1 = m.add_var()\n",
        "x2 = m.add_var()\n",
        "\n",
        "c = m.add_constr(2*x1 + x2 <= 10) #in questo es non serve ??\n",
        "\n",
        "m.objective = mip.maximize(x1 + x2)\n",
        "\n",
        "m.optimize()\n",
        "\n",
        "print(x1.x, x2.x)"
      ]
    },
    {
      "cell_type": "markdown",
      "id": "15a48a9a",
      "metadata": {
        "id": "15a48a9a"
      },
      "source": [
        "# A slightly more advanced example...\n",
        "\n",
        "Let us now consider a slightly more complicated example: formulating and solving a knapsack problem.\n",
        "\n",
        "$$\n",
        "\\begin{array}{lll}\n",
        "\\max & 3 x_1 + 4 x_2 + 7 x_3 + 5 x_4\\\\\n",
        "\\textrm{s.t.} & 4 x_1 + 5 x_2 + 6 x_3 + 4 x_4 \\le 13\\\\\n",
        "              & x_1, x_2, x_3, x_4 \\in \\{0,1\\}\n",
        "\\end{array}\n",
        "$$"
      ]
    },
    {
      "cell_type": "code",
      "execution_count": 15,
      "id": "dd721cb3",
      "metadata": {
        "id": "dd721cb3"
      },
      "outputs": [],
      "source": [
        "import mip\n",
        "\n",
        "m = mip.Model()\n",
        "\n",
        "x1 = m.add_var(var_type=mip.BINARY) #perche ora vogliamo valori binari\n",
        "# TODO: Write the rest of this model, solve it, then print its objective function value"
      ]
    },
    {
      "cell_type": "code",
      "source": [
        "x2 = m.add_var(var_type=mip.BINARY)\n",
        "x3 = m.add_var(var_type=mip.BINARY)\n",
        "x4 = m.add_var(var_type=mip.BINARY)"
      ],
      "metadata": {
        "id": "CGJVD61VVk70"
      },
      "id": "CGJVD61VVk70",
      "execution_count": 16,
      "outputs": []
    },
    {
      "cell_type": "code",
      "source": [
        "c = m.add_constr(4*x1+5*x2+6*x3+4*x4<=13)\n"
      ],
      "metadata": {
        "id": "sJzWJVNOV5Zj"
      },
      "id": "sJzWJVNOV5Zj",
      "execution_count": 17,
      "outputs": []
    },
    {
      "cell_type": "code",
      "source": [
        "m.objective = mip.maximize(3*x1+4*x2+7*x3+5*x4)"
      ],
      "metadata": {
        "id": "blzEmfSuWRCW"
      },
      "id": "blzEmfSuWRCW",
      "execution_count": 19,
      "outputs": []
    },
    {
      "cell_type": "code",
      "source": [
        "m.optimize() \n",
        "\n",
        "print(x1.x, x2.x, x3.x, x4.x)"
      ],
      "metadata": {
        "colab": {
          "base_uri": "https://localhost:8080/"
        },
        "id": "mCc4IkUyWkWi",
        "outputId": "0b169673-6d15-4c5d-d340-26d2475bea75"
      },
      "id": "mCc4IkUyWkWi",
      "execution_count": 20,
      "outputs": [
        {
          "output_type": "stream",
          "name": "stdout",
          "text": [
            "1.0 1.0 0.0 1.0\n"
          ]
        }
      ]
    },
    {
      "cell_type": "code",
      "source": [
        "print(m.objective_value)"
      ],
      "metadata": {
        "colab": {
          "base_uri": "https://localhost:8080/"
        },
        "id": "aUk8dX-tWwr3",
        "outputId": "6349a747-0943-4494-abb0-53908c00b768"
      },
      "id": "aUk8dX-tWwr3",
      "execution_count": 21,
      "outputs": [
        {
          "output_type": "stream",
          "name": "stdout",
          "text": [
            "12.0\n"
          ]
        }
      ]
    },
    {
      "cell_type": "markdown",
      "source": [],
      "metadata": {
        "id": "yKdaCOtEVksP"
      },
      "id": "yKdaCOtEVksP"
    },
    {
      "cell_type": "markdown",
      "id": "87a60366",
      "metadata": {
        "id": "87a60366"
      },
      "source": [
        "# ... with a slightly more advanced solution method"
      ]
    },
    {
      "cell_type": "markdown",
      "id": "84b3b82a",
      "metadata": {
        "id": "84b3b82a"
      },
      "source": [
        "For starters, we import the module and define the data used in this model.\n",
        "\n",
        "Next, we create an optimization model with the `mip.Model` *constructor* method. \n",
        "\n",
        "We also add four variables using a list, and call that list `x`. Note that we are using a so-called _list comprehension_ to create variables, i.e., we put a `for` construct _inside_ the list in order to create as many list elements as there are numbers in `range(4)`. As you may have gathered from previous cells, `range(4)` is the set of numbers `0, 1, 2, 3`."
      ]
    },
    {
      "cell_type": "code",
      "source": [
        "l = [1, 2, 3] #per dichiarare una lista si usano parentesi quadre\n",
        "l.append(4) #per aggiungere elementi\n",
        "print(l)"
      ],
      "metadata": {
        "colab": {
          "base_uri": "https://localhost:8080/"
        },
        "id": "s6JV1CJGZRO4",
        "outputId": "f98bfb1e-c3c1-4fb1-d123-460ef93acd5b"
      },
      "id": "s6JV1CJGZRO4",
      "execution_count": 24,
      "outputs": [
        {
          "output_type": "stream",
          "name": "stdout",
          "text": [
            "[1, 2, 3, 4]\n"
          ]
        }
      ]
    },
    {
      "cell_type": "code",
      "source": [
        "for i in l: #per fare ciclo e stampoare tutti gli elementi\n",
        "  print(i)"
      ],
      "metadata": {
        "colab": {
          "base_uri": "https://localhost:8080/"
        },
        "id": "g2C6LKfIZheF",
        "outputId": "804d062b-a701-49f0-b2e8-f9de587d1345"
      },
      "id": "g2C6LKfIZheF",
      "execution_count": 25,
      "outputs": [
        {
          "output_type": "stream",
          "name": "stdout",
          "text": [
            "1\n",
            "2\n",
            "3\n",
            "4\n"
          ]
        }
      ]
    },
    {
      "cell_type": "code",
      "source": [
        "for i in range(4): #per stampare i numeri fino a prima di 4\n",
        "  print (i)"
      ],
      "metadata": {
        "colab": {
          "base_uri": "https://localhost:8080/"
        },
        "id": "WR8dL_HTZ1Zj",
        "outputId": "c329db49-82d4-4ade-8e4d-f16fa30c931f"
      },
      "id": "WR8dL_HTZ1Zj",
      "execution_count": 26,
      "outputs": [
        {
          "output_type": "stream",
          "name": "stdout",
          "text": [
            "0\n",
            "1\n",
            "2\n",
            "3\n"
          ]
        }
      ]
    },
    {
      "cell_type": "code",
      "source": [
        "l1=[i for i in range(4)] #per creare lista con numeri fino a 4\n",
        "print (l1)"
      ],
      "metadata": {
        "colab": {
          "base_uri": "https://localhost:8080/"
        },
        "id": "uXV8K2xVZ-Sm",
        "outputId": "422b6311-f89b-4ad9-bc36-f4399bc255cc"
      },
      "id": "uXV8K2xVZ-Sm",
      "execution_count": 27,
      "outputs": [
        {
          "output_type": "stream",
          "name": "stdout",
          "text": [
            "[0, 1, 2, 3]\n"
          ]
        }
      ]
    },
    {
      "cell_type": "code",
      "execution_count": 29,
      "id": "b160fef0",
      "metadata": {
        "id": "b160fef0"
      },
      "outputs": [],
      "source": [
        "import mip\n",
        "\n",
        "values = [3, 4, 7, 5] #coefficienti della funzione obiettivo\n",
        "weight = [4, 5, 6, 4] #pesi dellae variabili del vincolo che abbiamo\n",
        "max_weight = 13 #peso massimo\n",
        "\n",
        "n = len(values) #numero di variabili che stiamo gestendo\n",
        "N = range(n) #l'iterabile dai valori da 0 a n-1\n",
        "\n",
        "m = mip.Model()\n",
        "\n",
        "x = [m.add_var(var_type=mip.BINARY) for i in N] #facendo così il problema di prima è risolvibile in una sola istruzione"
      ]
    },
    {
      "cell_type": "code",
      "source": [
        "print (x) #vedo che ho tutte le variabili salvate in una lista e non salvate una per una"
      ],
      "metadata": {
        "colab": {
          "base_uri": "https://localhost:8080/"
        },
        "id": "WbY0zNOVa4oo",
        "outputId": "2168a38d-d473-4544-fb32-73ffb7c3b11b"
      },
      "id": "WbY0zNOVa4oo",
      "execution_count": 30,
      "outputs": [
        {
          "output_type": "stream",
          "name": "stdout",
          "text": [
            "[<mip.entities.Var object at 0x7fee2ca7c910>, <mip.entities.Var object at 0x7fee2ca7cbe0>, <mip.entities.Var object at 0x7fee2ca77910>, <mip.entities.Var object at 0x7fee2ca77ee0>]\n"
          ]
        }
      ]
    },
    {
      "cell_type": "code",
      "source": [
        "mip.xsum([weight[i] * x[i] for i in N]) #prende in ingr una lista di espressioni e restituisce la somma dei vari termini uno per uno"
      ],
      "metadata": {
        "colab": {
          "base_uri": "https://localhost:8080/"
        },
        "id": "N-f4RLQObYX2",
        "outputId": "38cdb702-02f7-4de9-fbd3-8ff23a34e0a8"
      },
      "id": "N-f4RLQObYX2",
      "execution_count": 34,
      "outputs": [
        {
          "output_type": "execute_result",
          "data": {
            "text/plain": [
              "<mip.entities.LinExpr at 0x7fee405efcc0>"
            ]
          },
          "metadata": {},
          "execution_count": 34
        }
      ]
    },
    {
      "cell_type": "code",
      "source": [],
      "metadata": {
        "id": "ucH8G0zIb4ez"
      },
      "id": "ucH8G0zIb4ez",
      "execution_count": null,
      "outputs": []
    },
    {
      "cell_type": "markdown",
      "id": "1745988d",
      "metadata": {
        "id": "1745988d"
      },
      "source": [
        "We now add the single constraint and the objective. In order to create the sum $\\sum_i w_i x_i$, the method `mip.xsum` houls be used. As an argument, one again uses a `for` construct inside the `xsum` argument. The expression\n",
        "\n",
        "```python\n",
        "weight[i] * x[i] for i in range(4)\n",
        "```\n",
        "\n",
        "generates all products $w_ix_i$ for all $i\\in \\{0,1,2,3\\}$ (I know it might be tricky for many to get used to the idea that indices begin at zero in Python, but this will come in handy in the future). This expression is then wrapped inside a `mip.xsum`, which is constrained to be lesser than or equal to `max_weight`. This is the constraint. It is added to the model with the `+=` operator, which is common in Python and other languages such as C/C++ or Java; `a += b` means \"add `b` to `a` and store the result in `a`\".\n",
        "\n",
        "The objective function is a similar `mip.xsum` construction, this time with `value[i]` instead of `weight[i]` for coefficients. It is assigned as the model's objective function with the method `mip.maximize`, to indicate that this is obviously a function to be maximized."
      ]
    },
    {
      "cell_type": "code",
      "execution_count": 35,
      "id": "9e7dbd4a",
      "metadata": {
        "id": "9e7dbd4a"
      },
      "outputs": [],
      "source": [
        "# Add constraint, set objective\n",
        "c = m.add_constr(mip.xsum(weight[i] * x[i] for i in N) <= max_weight) #aggiungo il vincolo al nostro modello m\n",
        "m.objective = mip.maximize(mip.xsum(values[i] * x[i] for i in N)) #stesso principio del vincolo per definire la funzione obiettivo"
      ]
    },
    {
      "cell_type": "markdown",
      "id": "68e232bd",
      "metadata": {
        "id": "68e232bd"
      },
      "source": [
        "Finally, we call the method `optimize` to solve the problem and print the value of the optimal solution. For a variable `v` of the module `mip`, its value in the optimal solution is retrieved as the attribute `.x`, for example `v.x`."
      ]
    },
    {
      "cell_type": "code",
      "execution_count": 36,
      "id": "75de3989",
      "metadata": {
        "colab": {
          "base_uri": "https://localhost:8080/"
        },
        "id": "75de3989",
        "outputId": "8ac62a0e-17b1-4f99-ce39-0b202bf3b8d7"
      },
      "outputs": [
        {
          "output_type": "stream",
          "name": "stdout",
          "text": [
            "[1.0, 1.0, 0.0, 1.0]\n",
            "[1.0, 1.0, 0.0, 1.0]\n"
          ]
        }
      ],
      "source": [
        "# Optimize and print solution\n",
        "m.optimize()\n",
        "\n",
        "print([x[i].x for i in N])\n",
        "print([v.x for v in x])"
      ]
    },
    {
      "cell_type": "code",
      "source": [
        "print(m.objective_value) #come es prima"
      ],
      "metadata": {
        "colab": {
          "base_uri": "https://localhost:8080/"
        },
        "id": "2J5LTgCQcRsl",
        "outputId": "c06f8355-4971-42f8-877c-206338dff29a"
      },
      "id": "2J5LTgCQcRsl",
      "execution_count": 37,
      "outputs": [
        {
          "output_type": "stream",
          "name": "stdout",
          "text": [
            "12.0\n"
          ]
        }
      ]
    },
    {
      "cell_type": "markdown",
      "id": "ba383225",
      "metadata": {
        "id": "ba383225"
      },
      "source": [
        "Complete parametric model:"
      ]
    },
    {
      "cell_type": "code",
      "execution_count": null,
      "id": "59ae2e96",
      "metadata": {
        "id": "59ae2e96"
      },
      "outputs": [],
      "source": [
        "values = [3, 4, 7, 5]\n",
        "weight = [4, 5, 6, 4]\n",
        "max_weight = 13\n",
        "\n",
        "n = len(values)\n",
        "N = range(n)\n",
        "\n",
        "import mip\n",
        "\n",
        "m = mip.Model()\n",
        "\n",
        "x = [m.add_var(var_type=mip.BINARY) for i in N]\n",
        "\n",
        "c = m.add_constr(mip.xsum(weight[i] * x[i] for i in N) <= max_weight)\n",
        "\n",
        "m.objective = mip.maximize(mip.xsum(values[i] * x[i] for i in N))\n",
        "\n",
        "m.optimize()\n",
        "\n",
        "print([x[i].x for i in N])\n",
        "print(m.objective_value)"
      ]
    },
    {
      "cell_type": "markdown",
      "id": "b7e303f7",
      "metadata": {
        "id": "b7e303f7"
      },
      "source": [
        "## Miscellanea and troubleshooting\n",
        "\n",
        "After this first MIP model it's time to say something more about Python.\n",
        "\n",
        "### Re-running code on Jupyter notebooks\n",
        "Code on Jupyter notebooks is fed into Python one cell at a time. If the notebook is written correctly, you should be able to click into the first cell, then just do a `shift`+`enter` through the last cell without any error.\n",
        "\n",
        "You are also able to re-run any cell multiple times, in any sequence you want. However, be aware that Python sees a sequence of cells it is given, and does not know whether an instruction should be undone or not. Therefore, once a cell is run, its results are _persistent_, at least until we reset them. One big red button is the __Restart__ command under the _Kernel_ tab in the menu: it clears all memory of whatever was done in the cell so far (though obviously not file operations). Later in this notebook we show an example of the trouble persistence can cause.\n",
        "\n",
        "### Indentation\n",
        "Indentation is crucial: in a `for` loop, an `if` block, or a function definition, the inner part __MUST__ be indented consistently. Python will throw an error in the following cases:\n",
        "\n",
        "```python\n",
        "for i in [1,2,3]:\n",
        "print(i)\n",
        "```\n",
        "Here the `print` instruction should be indented by at least one space.\n",
        "```python\n",
        "if i==4:\n",
        "    print('i is 4')\n",
        "  print('deal with it')\n",
        "```\n",
        "Here indentation is inconsistent.\n",
        "```python\n",
        "def myfunction(a):\n",
        "return a**4 + 5*a**3\n",
        "```\n",
        "Same as the first incorrect example. The correct way to write these examples is as follows:\n",
        "```python\n",
        "for i in [1,2,3]:\n",
        "    print(i)\n",
        "\n",
        "if i==4:\n",
        "    print('i is 4')\n",
        "    print('deal with it')\n",
        "\n",
        "def myfunction(a):\n",
        "    return a**4 + 5*a**3\n",
        "```\n",
        "The suggested indentation is 4 characters.\n",
        "\n",
        "### Assignment vs. equality\n",
        "The sign `=` is for _assignment_, while `==` is for checking equality of two expressions. You can write `if a == 4` but not `if a = 4`. Also, writing the statement `a = 4` is correct, and so is `a == 4`; however, the latter has no effect (apart from returning `True` or `False` on the Python command line).\n",
        "\n",
        "### Semicolons, be gone!\n",
        "You may have noticed that Python doesn't require semicolons (`;`) at the end of each instruction, as other languages like C, C++, Java, AMPL do. This makes for more readable and prettier code, but indentation is enforced with this in mind.\n",
        "\n",
        "### Writing a statement on multiple lines\n",
        "Related to the last point: conditions can be split on multiple lines as long as a `\\` is added at the end of all but the last one, for example:\n",
        "```python\n",
        "if i==3 or \\\n",
        "   i==4:\n",
        "    print('i is not 5')\n",
        "```\n",
        "But the `\\` is not necessary if there is an unclosed parenthesis, for instance:\n",
        "```python\n",
        "if (i==3 or i==5 or\n",
        "    i==7):\n",
        "    print('i is prime')\n",
        "```\n",
        "### If you're feeling a bit masochistic...\n",
        "A good way to check if your Python program was written according to the standard is to run the `flake8` module on it. Just run `flake8 myprogram.py` and check all the errors it throws (there are usually a ton)."
      ]
    },
    {
      "cell_type": "markdown",
      "id": "1f4ca767",
      "metadata": {
        "id": "1f4ca767"
      },
      "source": [
        "## Persistence and debugging in Jupyer notebooks\n",
        "\n",
        "Suppose you want to model the following problem:\n",
        "$$\n",
        "\\begin{array}{ll}\n",
        "  \\max & x_1 + x_2\\\\\n",
        "  \\textrm{s.t.} & 2 x_1 + x_2 \\le 10\\\\\n",
        "  & x_1, x_2 \\ge 0\n",
        "\\end{array}\n",
        "$$\n",
        "Let's write the model using `mip`:"
      ]
    },
    {
      "cell_type": "code",
      "execution_count": null,
      "id": "ced94229",
      "metadata": {
        "id": "ced94229"
      },
      "outputs": [],
      "source": [
        "# Copy full model here"
      ]
    },
    {
      "cell_type": "markdown",
      "id": "7d965383",
      "metadata": {
        "id": "7d965383"
      },
      "source": [
        "Suppose now we want to relax the constraint, for instance change the right-hand side to 20:"
      ]
    },
    {
      "cell_type": "code",
      "execution_count": null,
      "id": "b349ade0",
      "metadata": {
        "id": "b349ade0"
      },
      "outputs": [],
      "source": [
        "# Add relaxed constraints (e.g. with <= 20 instead of <= 10)\n",
        "\n",
        "# Re-optimize and print the solution.\n",
        "\n",
        "print('solution:', x1.x, ',', x2.x)"
      ]
    },
    {
      "cell_type": "markdown",
      "id": "1882dd97",
      "metadata": {
        "id": "1882dd97"
      },
      "source": [
        "The solution is the same even though we relaxed the problem. Why? Well, the problem has two constraints: the one we added in the first cell (which is the more restrictive one) and the last constraint. If we want to relax a problem or change it otherwise, we should modify the cell it is contained in."
      ]
    }
  ],
  "metadata": {
    "kernelspec": {
      "display_name": "Python 3 (ipykernel)",
      "language": "python",
      "name": "python3"
    },
    "language_info": {
      "codemirror_mode": {
        "name": "ipython",
        "version": 3
      },
      "file_extension": ".py",
      "mimetype": "text/x-python",
      "name": "python",
      "nbconvert_exporter": "python",
      "pygments_lexer": "ipython3",
      "version": "3.10.5"
    },
    "colab": {
      "provenance": []
    }
  },
  "nbformat": 4,
  "nbformat_minor": 5
}