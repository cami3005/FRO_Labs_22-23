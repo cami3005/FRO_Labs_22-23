{
  "cells": [
    {
      "cell_type": "markdown",
      "id": "0b1f12f2",
      "metadata": {
        "id": "0b1f12f2"
      },
      "source": [
        "# Lab session of 23/03/2022\n",
        "\n",
        "## Graph problem 1: the shortest path problem\n",
        "\n",
        "Find the shortest path connecting two nodes on a randomly generated graph with $k$ nodes, where two nodes are connected if their Euclidean distance is not more than $d_{\\max}$. Specifically:\n",
        "\n",
        "1. Generate $k$ points by creating random $x,y$ coordinates for each; the coordinates should be in the interval $[0,100]$;\n",
        "2. Create edges by joining all node pairs whose distance is at most $d_{\\max}$;\n",
        "3. Create the optimization model for the shortest path problem, i.e., flow-based, based on the created graph; assume the path is from node 0 to node 12;\n",
        "4. Solve the optimization model and determine the shortest path."
      ]
    },
    {
      "cell_type": "markdown",
      "id": "66d09b7a",
      "metadata": {
        "id": "66d09b7a"
      },
      "source": [
        "## Solution\n",
        "\n",
        "We'll carry out each step one by one. In order to check our progress, we'll use the `matplotlib` Python module for visualizing what we obtained so far. We can also use `numpy` for generating a few random numbers. Here we create a $k\\times 2$ multiarray that contains the $(x,y)$ coordinates of each of the $k$ points.\n",
        "\n",
        "Point $i$ has coordinates `point[i]`. We compute the distance by any two points $i$ and $j$ and store all distances in a square $k\\times k$ matrix we call `distance`. Note that `distance[i,i]` is always zero."
      ]
    },
    {
      "cell_type": "code",
      "execution_count": 1,
      "id": "90d29e02",
      "metadata": {
        "id": "90d29e02",
        "outputId": "08021f39-d53e-4d80-f22b-894e2f3593d8",
        "colab": {
          "base_uri": "https://localhost:8080/"
        }
      },
      "outputs": [
        {
          "output_type": "stream",
          "name": "stdout",
          "text": [
            "Looking in indexes: https://pypi.org/simple, https://us-python.pkg.dev/colab-wheels/public/simple/\n",
            "Collecting mip\n",
            "  Downloading mip-1.15.0-py3-none-any.whl (15.3 MB)\n",
            "\u001b[2K     \u001b[90m━━━━━━━━━━━━━━━━━━━━━━━━━━━━━━━━━━━━━━━━\u001b[0m \u001b[32m15.3/15.3 MB\u001b[0m \u001b[31m52.9 MB/s\u001b[0m eta \u001b[36m0:00:00\u001b[0m\n",
            "\u001b[?25hRequirement already satisfied: cffi==1.15.* in /usr/local/lib/python3.9/dist-packages (from mip) (1.15.1)\n",
            "Requirement already satisfied: pycparser in /usr/local/lib/python3.9/dist-packages (from cffi==1.15.*->mip) (2.21)\n",
            "Installing collected packages: mip\n",
            "Successfully installed mip-1.15.0\n"
          ]
        }
      ],
      "source": [
        "# When using Colab, make sure you run this instruction beforehand\n",
        "\n",
        "!pip install mip"
      ]
    },
    {
      "cell_type": "code",
      "execution_count": 6,
      "id": "afc00939",
      "metadata": {
        "id": "afc00939",
        "outputId": "d3ca8a13-246a-4f6a-9073-686bbcd02b76",
        "colab": {
          "base_uri": "https://localhost:8080/"
        }
      },
      "outputs": [
        {
          "output_type": "stream",
          "name": "stdout",
          "text": [
            "[[92.96160928 31.63755546]\n",
            " [18.39188117 20.45602786]\n",
            " [56.77250291 59.5544703 ]\n",
            " [96.45145197 65.31770969]\n",
            " [74.89066375 65.35698709]\n",
            " [74.77148093 96.13067361]\n",
            " [ 0.83882979 10.64443767]\n",
            " [29.87037138 65.64111831]\n",
            " [80.98125525 87.21759137]\n",
            " [96.46475974 72.36853469]\n",
            " [64.24753279 71.74536208]\n",
            " [46.75990072 32.55846775]\n",
            " [43.96446059 72.96890827]\n",
            " [99.40145859 67.68737118]\n",
            " [79.08225178 17.09142578]]\n",
            "[0, 1, 2, 3, 4, 5, 6, 7, 8, 9, 10, 11, 12, 13, 14]\n"
          ]
        }
      ],
      "source": [
        "import numpy as np\n",
        "import math\n",
        "\n",
        "k = 15 #numero di punti\n",
        "grid_size = 100  # size of the grid of points #limite massimo\n",
        "d_max = .35 * grid_size #distanza massima 35% della gtid size\n",
        "\n",
        "s = 0   # starting point #cerchiamo cammino minimo tra nodo 0 e nodo 12\n",
        "t = 12  # destination\n",
        "\n",
        "\n",
        "\n",
        "np.random.seed(12345) #generiamo qualcosa con numeri random np sta per numpy la libreria che stiamo usando\n",
        "#matrix con ka righe e 2 colonne\n",
        "\n",
        "point = grid_size * np.random.random((k,2))\n",
        "\n",
        "#G = (V, A)\n",
        "V=[i for i in range(k)] #V è il set di nodi\n",
        "print(point)\n",
        "print(V)"
      ]
    },
    {
      "cell_type": "code",
      "source": [
        "l = [1, 2, 3, 4]\n",
        "t = (1, 2, 3)"
      ],
      "metadata": {
        "id": "g1TszzaIWQC9"
      },
      "id": "g1TszzaIWQC9",
      "execution_count": null,
      "outputs": []
    },
    {
      "cell_type": "code",
      "source": [
        "grid_size * np.random((k,2))"
      ],
      "metadata": {
        "id": "kbl68Fa_Wfr7"
      },
      "id": "kbl68Fa_Wfr7",
      "execution_count": null,
      "outputs": []
    },
    {
      "cell_type": "markdown",
      "id": "984d4f1e",
      "metadata": {
        "id": "984d4f1e"
      },
      "source": [
        "Let's plot these points on the grid. We use `matplotlib` and specifically the function `matplotlib.pyplot`."
      ]
    },
    {
      "cell_type": "code",
      "execution_count": 7,
      "id": "d5d8de36",
      "metadata": {
        "id": "d5d8de36",
        "outputId": "3c6a9fdd-5b8f-4d2e-b167-bbdd056c3087",
        "colab": {
          "base_uri": "https://localhost:8080/",
          "height": 268
        }
      },
      "outputs": [
        {
          "output_type": "display_data",
          "data": {
            "text/plain": [
              "<Figure size 432x288 with 1 Axes>"
            ],
            "image/png": "[encoded data removed]"
          },
          "metadata": {
            "needs_background": "light"
          }
        }
      ],
      "source": [
        "import matplotlib.pyplot as plot #permette di stampare dati sui grafici\n",
        "plot.scatter(point[:,0], point[:,1]) #prende in ingresso due liste di coordinate #[:,O] si usa cosi in questo caso\n",
        "plot.show() #stampaiamo tutti i punti sul piano cartesiano"
      ]
    },
    {
      "cell_type": "markdown",
      "id": "688d7cf7",
      "metadata": {
        "id": "688d7cf7"
      },
      "source": [
        "The `random` function call above uses a _random seed_ that is set on import. If we run the two cells above again, the coordinates would change and so would the graph. Anyone of us probably got a different set of points when running the above code.\n",
        "\n",
        "Let's now determine all distances between each point. An explanation of this one-liner is provided at the end of this notebook."
      ]
    },
    {
      "cell_type": "code",
      "execution_count": 8,
      "id": "620c522d",
      "metadata": {
        "id": "620c522d",
        "outputId": "d766025a-550b-48c2-8be0-e937e06520db",
        "colab": {
          "base_uri": "https://localhost:8080/"
        }
      },
      "outputs": [
        {
          "output_type": "stream",
          "name": "stdout",
          "text": [
            "[[  0.          75.40338792  45.70564029  33.86047535  38.2564915\n",
            "   67.00927591  94.48448283  71.67110008  56.85656756  40.88134945\n",
            "   49.32681158  46.21088566  64.10149223  36.62049798  20.10538369]\n",
            " [ 75.40338792   0.          54.7883229   90.03258905  72.16791928\n",
            "   94.36795684  20.10912515  46.62025458  91.51249156  93.75650769\n",
            "   68.79924848  30.84175068  58.40855612  93.77287148  60.78356384]\n",
            " [ 45.70564029  54.7883229    0.          40.09531054  19.02464069\n",
            "   40.76495871  74.30186458  27.58209501  36.76019529  41.70941738\n",
            "   14.30013686  28.79299144  18.54705082  43.39783335  47.96702039]\n",
            " [ 33.86047535  90.03258905  40.09531054   0.          21.560824\n",
            "   37.67572017 110.14054745  66.58186605  26.81290369   7.05083756\n",
            "   32.8391097   59.51821736  53.04172984   3.78389146  51.25879022]\n",
            " [ 38.2564915   72.16791928  19.02464069  21.560824     0.\n",
            "   30.77391731  92.07137001  45.02118897  22.69319996  22.68487199\n",
            "   12.41320151  43.20975236  31.84919758  24.62132721  48.44722715]\n",
            " [ 67.00927591  94.36795684  40.76495871  37.67572017  30.77391731\n",
            "    0.         113.02182726  54.27451171  10.86297989  32.17510826\n",
            "   26.55930915  69.46995021  38.54270197  37.62522097  79.15671445]\n",
            " [ 94.48448283  20.10912515  74.30186458 110.14054745  92.07137001\n",
            "  113.02182726   0.          62.18894828 110.84338603 113.81644271\n",
            "   88.05672365  50.88191692  75.79023465 113.87926966  78.5085775 ]\n",
            " [ 71.67110008  46.62025458  27.58209501  66.58186605  45.02118897\n",
            "   54.27451171  62.18894828   0.          55.47852414  66.9333302\n",
            "   34.91491112  37.14455504  15.88520873  69.56119062  69.12945695]\n",
            " [ 56.85656756  91.51249156  36.76019529  26.81290369  22.69319996\n",
            "   10.86297989 110.84338603  55.47852414   0.          21.45305096\n",
            "   22.79051002  64.48814543  39.66444324  26.8464782   70.15187321]\n",
            " [ 40.88134945  93.75650769  41.70941738   7.05083756  22.68487199\n",
            "   32.17510826 113.81644271  66.9333302   21.45305096   0.\n",
            "   32.22325335  63.68213595  52.50373186   5.52607383  57.94575353]\n",
            " [ 49.32681158  68.79924848  14.30013686  32.8391097   12.41320151\n",
            "   26.55930915  88.05672365  34.91491112  22.79051002  32.22325335\n",
            "    0.          42.91188603  20.31994299  35.38736765  56.63145452]\n",
            " [ 46.21088566  30.84175068  28.79299144  59.51821736  43.20975236\n",
            "   69.46995021  50.88191692  37.14455504  64.48814543  63.68213595\n",
            "   42.91188603   0.          40.50701407  63.28643986  35.83244013]\n",
            " [ 64.10149223  58.40855612  18.54705082  53.04172984  31.84919758\n",
            "   38.54270197  75.79023465  15.88520873  39.66444324  52.50373186\n",
            "   20.31994299  40.50701407   0.          55.68801829  65.99660831]\n",
            " [ 36.62049798  93.77287148  43.39783335   3.78389146  24.62132721\n",
            "   37.62522097 113.87926966  69.56119062  26.8464782    5.52607383\n",
            "   35.38736765  63.28643986  55.68801829   0.          54.52357156]\n",
            " [ 20.10538369  60.78356384  47.96702039  51.25879022  48.44722715\n",
            "   79.15671445  78.5085775   69.12945695  70.15187321  57.94575353\n",
            "   56.63145452  35.83244013  65.99660831  54.52357156   0.        ]]\n"
          ]
        }
      ],
      "source": [
        "# Determine the distance between each point #ci ha dato la funzione in basso al notebook\n",
        "distance = np.array([[math.sqrt(np.sum((point[i] - point[j])**2)) for i in V] for j in V])\n",
        "print(distance)  #la diagonale è zero (dist tra nodo e se stesso), poi c'è simmetria, dist tra 0 e 1 vale 75 come anche tra 1 e 0 ovviamente"
      ]
    },
    {
      "cell_type": "markdown",
      "id": "076c5559",
      "metadata": {
        "id": "076c5559"
      },
      "source": [
        "Now let's draw the graph we constructed: we need a new Python module called `networkx`, but then drawing the graph can be done in 7 lines of code.\n",
        "\n",
        "To create a graph, we need a set $V$ of nodes, which we already have as it's the set of numbers from 0 to $k-1$. We also need a set of arcs $A$. For that we just take all tuples `(i,j)` such that the distance we computed above is not more than $d_{\\max}$.\n",
        "\n",
        "We then create a graph `g` as an object of the class `networkx.Graph`, we add the nodes from $V$ and the arcs from $A$. Then it's just a matter of calling `networkx.draw` by specifying the coordinates of the points. If the coordinates are not given, `networkx` can easily create them.\n",
        "\n",
        "The coordinates are specified as a __dictionary__, one of the fundamental data types in Python: they can be specified as in the following example, with key-value pairs,\n",
        "\n",
        "```python\n",
        "phone_book = {\n",
        "    'Alice': (555,3324),\n",
        "    'Bob': (555,4620)\n",
        "}\n",
        "```\n",
        "\n",
        "but we'll use a generator to create a dictionary that has nodes as keys and their coordinates $(x,y)$ as values. The `coord` object is only needed to draw the graph according to the right position of all nodes."
      ]
    },
    {
      "cell_type": "code",
      "source": [
        "aa = {'a' : 1} # per creare un dizionario a caso\n",
        "aa['a']\n",
        "aa['b']=2 #per aggiungere qualcos altro\n",
        "print (aa)\n",
        "\n",
        "bb = {i : i+1 for i in range(5)}\n",
        "print(bb)\n"
      ],
      "metadata": {
        "id": "8bOXSeeGZmqU",
        "outputId": "e4d385a3-b10e-4c63-803f-f49b993227f7",
        "colab": {
          "base_uri": "https://localhost:8080/"
        }
      },
      "id": "8bOXSeeGZmqU",
      "execution_count": 11,
      "outputs": [
        {
          "output_type": "stream",
          "name": "stdout",
          "text": [
            "{'a': 1, 'b': 2}\n",
            "{0: 1, 1: 2, 2: 3, 3: 4, 4: 5}\n"
          ]
        }
      ]
    },
    {
      "cell_type": "code",
      "execution_count": 13,
      "id": "f1023aef",
      "metadata": {
        "id": "f1023aef",
        "outputId": "61d62e04-0c2a-4909-8ee8-86c7d28e175e",
        "colab": {
          "base_uri": "https://localhost:8080/",
          "height": 360
        }
      },
      "outputs": [
        {
          "output_type": "stream",
          "name": "stdout",
          "text": [
            "{0: (92.96160928171479, 31.63755545817859), 1: (18.391881167709446, 20.456027855303972), 2: (56.77250290816866, 59.55447029792516), 3: (96.45145197356216, 65.31770968715709), 4: (74.89066375339118, 65.35698708517353), 5: (74.77148092712739, 96.13067360728213), 6: (0.8388297941553491, 10.644437669771934), 7: (29.870371376938152, 65.64111830822699), 8: (80.98125525409347, 87.2175913724283), 9: (96.46475973719302, 72.36853469199535), 10: (64.24753278958413, 71.74536208124137), 11: (46.75990072192965, 32.558467753937784), 12: (43.96446058848095, 72.96890827468513), 13: (99.4014585899962, 67.687371177377), 14: (79.08225178477886, 17.09142577924344)}\n"
          ]
        },
        {
          "output_type": "display_data",
          "data": {
            "text/plain": [
              "<Figure size 432x288 with 1 Axes>"
            ],
            "image/png": "[encoded data removed]"
          },
          "metadata": {}
        }
      ],
      "source": [
        "import networkx as nx\n",
        "\n",
        "\n",
        "# Set of arcs: note the condition that i!=j and especially the condition\n",
        "# that prevents long arcs.\n",
        "A = [(i, j) for i in V for j in V if distance [i,j] <= d_max and i != j] #stiamo iterando attraverso tutte le coppie di nodi i j nper creare gli archi\n",
        "\n",
        "# Define a dictionary whose keys are the nodes, and the values are tuples\n",
        "# containing the (x,y) coordinates of each point. Necessary for creating \n",
        "# a graph with networkx\n",
        "coord = {i: (point[i,0], point[i,1]) for i in V} #dizionario delle coordinate 8sopra c e scritto come fare\n",
        "print(coord) #mi stampa il dizionario\n",
        "g = nx.Graph() #grafo vuoto\n",
        "\n",
        "g.add_nodes_from(V) #nodi\n",
        "g.add_edges_from(A) #archi\n",
        "\n",
        "nx.draw(g, pos=coord) #con queste 5 istruzioni sopra posso visualizzare il grafo"
      ]
    },
    {
      "cell_type": "markdown",
      "id": "c0550440",
      "metadata": {
        "id": "c0550440"
      },
      "source": [
        "The input is done, now we need to create a MIP model after importing the `mip` module. The formulation is as follows (note that $d_{ij}$ is the distance between $i$ and $j$):\n",
        "\n",
        "$$\n",
        "\\begin{array}{lll}\n",
        "   \\min & \\sum_{(i,j) \\in A} d_{ij} f_{ij}\\\\\n",
        "   \\textrm{s.t.} & \\sum_{j \\in V: (i,j) \\in A} f_{ij} -  \\sum_{j \\in V: (j,i) \\in A} f_{ji} = b_i & \\forall i\\in V\\\\\n",
        "  & f_{ij} \\ge 0 & \\forall (i,j) \\in A\n",
        "\\end{array}\n",
        "$$\n",
        "\n",
        "where $b_i = \\left\\{\n",
        "   \\begin{array}{ll}\n",
        "      1 & \\textrm{if }i=s\\\\\n",
        "     -1 & \\textrm{if }i=t\\\\\n",
        "      0 & \\textrm{otherwise}\n",
        "   \\end{array}\n",
        "   \\right.$. We start by importing `mip` and creating a model, then adding the two classes of variables $f$ and $x$ with appropriate index sets."
      ]
    },
    {
      "cell_type": "code",
      "source": [
        "import mip"
      ],
      "metadata": {
        "id": "E0dQNXG5bZb8"
      },
      "id": "E0dQNXG5bZb8",
      "execution_count": 14,
      "outputs": []
    },
    {
      "cell_type": "code",
      "execution_count": 18,
      "id": "d22b68cd",
      "metadata": {
        "id": "d22b68cd"
      },
      "outputs": [],
      "source": [
        "# Create model and add variables\n",
        "m = mip.Model()\n",
        "f = {(i,j): m.add_var() for (i,j) in A} #creo un dizionaero ma ci sono anche altri modi\n"
      ]
    },
    {
      "cell_type": "code",
      "execution_count": 23,
      "id": "6daf3806",
      "metadata": {
        "id": "6daf3806",
        "outputId": "29c1612b-b366-4dce-ba98-3f37d4d62f24",
        "colab": {
          "base_uri": "https://localhost:8080/"
        }
      },
      "outputs": [
        {
          "output_type": "stream",
          "name": "stdout",
          "text": [
            "[1, 0, 0, 0, 0, 0, 0, 0, 0, 0, 0, 0, -1, 0, 0]\n"
          ]
        }
      ],
      "source": [
        "# define b[i] for all i\n",
        "b=[0 for i in V]\n",
        "b[s]= 1\n",
        "b[t] = -1\n",
        "print (b)\n",
        "# Write flow conservation constraint\n",
        "for i in V:\n",
        "  m.add_constr(mip.xsum(f[i,j] for (i,j) in A) - mip.xsum(f[j,i] for (j,i) in A) == b[i])\n",
        " "
      ]
    },
    {
      "cell_type": "markdown",
      "id": "0e3c4e49",
      "metadata": {
        "id": "0e3c4e49"
      },
      "source": [
        "Finally, the objective function: the sum over all arcs $(i,j)$ of their length $d_{ij}$ (i.e. the distance between nodes $i$ and $j$) multiplied by the variable $x_{ij}$."
      ]
    },
    {
      "cell_type": "code",
      "execution_count": 24,
      "id": "d09b36ad",
      "metadata": {
        "id": "d09b36ad",
        "outputId": "ce86b06a-78f4-47ce-e075-54dd02271805",
        "colab": {
          "base_uri": "https://localhost:8080/"
        }
      },
      "outputs": [
        {
          "output_type": "execute_result",
          "data": {
            "text/plain": [
              "<OptimizationStatus.INFEASIBLE: 1>"
            ]
          },
          "metadata": {},
          "execution_count": 24
        }
      ],
      "source": [
        "m.objective = mip.minimize(mip.xsum(distance[i,j]*f[i,j] for (i,j) in A))\n",
        "\n",
        "m.optimize()"
      ]
    },
    {
      "cell_type": "markdown",
      "id": "5f75532e",
      "metadata": {
        "id": "5f75532e"
      },
      "source": [
        "If we didn't have any graphical tool, we could easily just print out the indices $(i,j)$ of the variables $x_{ij}$ that have a non-zero value:"
      ]
    },
    {
      "cell_type": "code",
      "execution_count": null,
      "id": "ceebf608",
      "metadata": {
        "id": "ceebf608"
      },
      "outputs": [],
      "source": []
    },
    {
      "cell_type": "markdown",
      "id": "05df6bbc",
      "metadata": {
        "id": "05df6bbc"
      },
      "source": [
        "But we'll use the `networkx.draw` function again and add some more features to visualize the tree on the graph. Note that `networkx.draw` can host multiple drawings of the same graph, and this can be useful to give a different width/color for the arcs that belong to the optimal solution as well as for showing where the root node is.\n",
        "\n",
        "We put this code into a function as it will be called later when using the other formulation."
      ]
    },
    {
      "cell_type": "code",
      "execution_count": null,
      "id": "50773341",
      "metadata": {
        "id": "50773341"
      },
      "outputs": [],
      "source": [
        "def draw_solution(V, A, x):\n",
        "    g = nx.Graph()\n",
        "\n",
        "    # Draw the whole graph first: all nodes, all arcs, no highlighting\n",
        "    g.add_nodes_from(V)\n",
        "    g.add_edges_from([(i,j) for (i,j) in A])\n",
        "    nx.draw(g, pos=coord)\n",
        "\n",
        "    # Reset the graph and add only the arcs that belong to the solution, \n",
        "    # i.e. those for which the optimal value of the variable f[i,j] is nonzero\n",
        "    g.clear()\n",
        "    g.add_edges_from([(i,j) for (i,j) in A if f[i,j].x > 0.001])\n",
        "    nx.draw(g, pos=coord, width=4, edge_color='red')\n",
        "\n",
        "    # finally, draw a graph consisting of the sole root node, highlighted in green\n",
        "    g.clear()\n",
        "    g.add_node(0)\n",
        "    nx.draw(g, pos={0: coord[0]}, node_color='green')\n",
        "\n",
        "    \n",
        "# after defining the function, call it with the current data\n",
        "draw_solution (V, A, f)"
      ]
    },
    {
      "cell_type": "markdown",
      "id": "a9351bcf",
      "metadata": {
        "id": "a9351bcf"
      },
      "source": [
        "## Explanation of the definition of `distance`"
      ]
    },
    {
      "cell_type": "code",
      "execution_count": null,
      "id": "818c90c1",
      "metadata": {
        "id": "818c90c1"
      },
      "outputs": [],
      "source": [
        "distance = np.array([[math.sqrt(np.sum((point[i] - point[j])**2)) for i in V] for j in V])"
      ]
    },
    {
      "cell_type": "markdown",
      "id": "736901ae",
      "metadata": {
        "id": "736901ae"
      },
      "source": [
        "Let's analyze the above instruction given that it compresses quite a few operations on one line.\n",
        "\n",
        "Consider the multiarray with the coordinates. Point 3, for example, has coordinates `point[3,0]` and `point[3,1]`. It can also be considered as a 2-vector with `point[3]`. "
      ]
    },
    {
      "cell_type": "code",
      "execution_count": null,
      "id": "eb4415c1",
      "metadata": {
        "id": "eb4415c1"
      },
      "outputs": [],
      "source": [
        "print(point[3,0])\n",
        "print(point[3,1])\n",
        "print(point[3])"
      ]
    },
    {
      "cell_type": "markdown",
      "id": "e62fb626",
      "metadata": {
        "id": "e62fb626"
      },
      "source": [
        "Numpy can do operations on (sub-)vectors, so we can easily obtain the difference vector between point 2 and point 3, which will be obviously a 2-vector:"
      ]
    },
    {
      "cell_type": "code",
      "execution_count": null,
      "id": "005621cf",
      "metadata": {
        "id": "005621cf"
      },
      "outputs": [],
      "source": [
        "print(point[2])\n",
        "print(point[3])\n",
        "print(\"vector difference:\", point[3] - point[2])"
      ]
    },
    {
      "cell_type": "markdown",
      "id": "6f70a289",
      "metadata": {
        "id": "6f70a289"
      },
      "source": [
        "For a numpy array `a`, the array `a**2` is such that every element is the square of each element of `a`."
      ]
    },
    {
      "cell_type": "code",
      "execution_count": null,
      "id": "1f1bf940",
      "metadata": {
        "id": "1f1bf940"
      },
      "outputs": [],
      "source": [
        "a = np.array([2,5])\n",
        "print(a**2)"
      ]
    },
    {
      "cell_type": "markdown",
      "id": "a044ffa8",
      "metadata": {
        "id": "a044ffa8"
      },
      "source": [
        "The `np.sum` operator obviously gives the sum of all elements in the vector, while `np.sqrt` takes the square root. "
      ]
    },
    {
      "cell_type": "code",
      "execution_count": null,
      "id": "d4d8a80e",
      "metadata": {
        "id": "d4d8a80e"
      },
      "outputs": [],
      "source": [
        "p1 = np.array([2,7])\n",
        "p2 = np.array([5,3])\n",
        "\n",
        "print('difference vector:', p1-p2)\n",
        "print('squared difference:', (p1-p2)**2)\n",
        "print('sum of the squared differences:', np.sum((p1-p2)**2))\n",
        "print('its square root is:', np.sqrt(np.sum((p1-p2)**2)))"
      ]
    },
    {
      "cell_type": "markdown",
      "id": "d7e4614c",
      "metadata": {
        "id": "d7e4614c"
      },
      "source": [
        "Now we just need to elaborate a bit on *list comprehensions*, i.e. how to create lists by looping over an index."
      ]
    },
    {
      "cell_type": "code",
      "execution_count": null,
      "id": "b9acc3cd",
      "metadata": {
        "id": "b9acc3cd"
      },
      "outputs": [],
      "source": [
        "table5 = np.array([[i*j for i in range(1,6)] for j in range(1,6)])\n",
        "print(table5)"
      ]
    },
    {
      "cell_type": "markdown",
      "id": "ded33ab1",
      "metadata": {
        "id": "ded33ab1"
      },
      "source": [
        "Well, this is the multiplication table from 1 to 5. The take-away message is that we have a nested list comprehension\n",
        "```python\n",
        "a = [[i*j for i in ...] for j in ...]\n",
        "```\n",
        "We can now read the instruction a little more easily:"
      ]
    },
    {
      "cell_type": "code",
      "execution_count": null,
      "id": "4f452e8a",
      "metadata": {
        "id": "4f452e8a"
      },
      "outputs": [],
      "source": [
        "#                               squared difference between any two points \n",
        "#                                       ___________|___________\n",
        "#                                      /                       \\\n",
        "distance = np.array([[math.sqrt(np.sum((point[i] - point[j])**2)) for i in V] for j in V])\n",
        "#                     \\_________________________________________/\n",
        "#                                            |\n",
        "#                      square root of their sum (i.e. distance between i and j)\n",
        "#                   \\___________________________________________________________________/\n",
        "#                                                        |\n",
        "#                     List comprehension that computes the distance between any two points i and j"
      ]
    },
    {
      "cell_type": "markdown",
      "id": "59bad939",
      "metadata": {
        "id": "59bad939"
      },
      "source": [
        "### Can we do it faster?\n",
        "\n",
        "https://jakevdp.github.io/PythonDataScienceHandbook/01.07-timing-and-profiling.html"
      ]
    },
    {
      "cell_type": "code",
      "execution_count": null,
      "id": "3e3a95d8",
      "metadata": {
        "id": "3e3a95d8"
      },
      "outputs": [],
      "source": [
        "import numpy as np\n",
        "import math\n",
        "\n",
        "# Generate many random 2d points in [0, 100]\n",
        "num_points = 1000\n",
        "grid_size = 100\n",
        "points = grid_size * np.random.random((num_points,2))\n",
        "\n",
        "def slow_distance_matrix(points):\n",
        "    return np.array([[math.sqrt(np.sum((pi - pj)**2)) for pi in points] for pj in points])\n",
        "\n",
        "# TODO\n",
        "def fast_distance_matrix(x):\n",
        "    # Tip: do not use list comprehension, exploit numpy matrix operations\n",
        "    return np.zeros((len(points), len(points)))\n",
        "\n",
        "print(\"Running slow version\")\n",
        "%time m1 = slow_distance_matrix(points)\n",
        "\n",
        "print(\"Running fast version\")\n",
        "%time m2 = fast_distance_matrix(points)\n",
        "\n",
        "# Check if matrices contains the same values \n",
        "# (beware of floating point comparisons!!)\n",
        "eps = 1e-5\n",
        "assert (np.abs(m1 - m2) <= eps).all()"
      ]
    }
  ],
  "metadata": {
    "kernelspec": {
      "display_name": "Python 3 (ipykernel)",
      "language": "python",
      "name": "python3"
    },
    "language_info": {
      "codemirror_mode": {
        "name": "ipython",
        "version": 3
      },
      "file_extension": ".py",
      "mimetype": "text/x-python",
      "name": "python",
      "nbconvert_exporter": "python",
      "pygments_lexer": "ipython3",
      "version": "3.10.4"
    },
    "colab": {
      "provenance": []
    }
  },
  "nbformat": 4,
  "nbformat_minor": 5
}